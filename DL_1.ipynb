{
 "cells": [
  {
   "cell_type": "markdown",
   "id": "9ba3e3fd",
   "metadata": {},
   "source": [
    "Study of Deep learning Packages: Tensorflow, Keras, Theano and PyTorch. Document the distinct\n",
    "features and functionality of the packages."
   ]
  },
  {
   "cell_type": "code",
   "execution_count": null,
   "id": "011e8e87",
   "metadata": {},
   "outputs": [],
   "source": [
    "import tensorflow as tf"
   ]
  },
  {
   "cell_type": "code",
   "execution_count": null,
   "id": "f2a5ffc9",
   "metadata": {},
   "outputs": [],
   "source": [
    "print(tf.__version__)"
   ]
  },
  {
   "cell_type": "code",
   "execution_count": null,
   "id": "bc149f38",
   "metadata": {},
   "outputs": [],
   "source": [
    "print(tf.reduce_sum(tf.random.normal([1000,1000])))"
   ]
  },
  {
   "cell_type": "markdown",
   "id": "d0eb990d",
   "metadata": {},
   "source": [
    "# Keras Test"
   ]
  },
  {
   "cell_type": "code",
   "execution_count": null,
   "id": "4d37a037",
   "metadata": {},
   "outputs": [],
   "source": [
    "(train_images,train_labels),(test_images,test_labels)=datasets.mnist.load_data()"
   ]
  },
  {
   "cell_type": "code",
   "execution_count": null,
   "id": "02879517",
   "metadata": {},
   "outputs": [],
   "source": [
    "train_images.shape,test_images.shape"
   ]
  },
  {
   "cell_type": "markdown",
   "id": "7a2ab82b",
   "metadata": {},
   "source": [
    "# Theano Test"
   ]
  },
  {
   "cell_type": "code",
   "execution_count": null,
   "id": "8d71391a",
   "metadata": {},
   "outputs": [],
   "source": [
    "import numpy"
   ]
  },
  {
   "cell_type": "code",
   "execution_count": null,
   "id": "140eb32c",
   "metadata": {},
   "outputs": [],
   "source": [
    "import theano.tensor as T"
   ]
  },
  {
   "cell_type": "code",
   "execution_count": null,
   "id": "e1a3f243",
   "metadata": {},
   "outputs": [],
   "source": [
    "from theano import function"
   ]
  },
  {
   "cell_type": "code",
   "execution_count": null,
   "id": "097d26f9",
   "metadata": {},
   "outputs": [],
   "source": [
    "x = T.dscalar('x')"
   ]
  },
  {
   "cell_type": "code",
   "execution_count": null,
   "id": "f1f57e20",
   "metadata": {},
   "outputs": [],
   "source": [
    "y = T.dscalar('y')"
   ]
  },
  {
   "cell_type": "code",
   "execution_count": null,
   "id": "a9773291",
   "metadata": {},
   "outputs": [],
   "source": [
    "z = x + y"
   ]
  },
  {
   "cell_type": "code",
   "execution_count": null,
   "id": "2fa0c785",
   "metadata": {},
   "outputs": [],
   "source": [
    "f = function([x,y],z)"
   ]
  },
  {
   "cell_type": "code",
   "execution_count": null,
   "id": "a4f168ab",
   "metadata": {},
   "outputs": [],
   "source": [
    "f(5,7)"
   ]
  },
  {
   "cell_type": "markdown",
   "id": "f096cf98",
   "metadata": {},
   "source": [
    "# PyTorch Test\n"
   ]
  },
  {
   "cell_type": "code",
   "execution_count": null,
   "id": "d92bad4e",
   "metadata": {},
   "outputs": [],
   "source": [
    "import torch"
   ]
  },
  {
   "cell_type": "code",
   "execution_count": null,
   "id": "4f5004f2",
   "metadata": {},
   "outputs": [],
   "source": [
    "import torch.nn as nn"
   ]
  },
  {
   "cell_type": "code",
   "execution_count": null,
   "id": "738ee9f8",
   "metadata": {},
   "outputs": [],
   "source": [
    "print(torch.__version__)"
   ]
  }
 ],
 "metadata": {
  "kernelspec": {
   "display_name": "Python 3 (ipykernel)",
   "language": "python",
   "name": "python3"
  },
  "language_info": {
   "codemirror_mode": {
    "name": "ipython",
    "version": 3
   },
   "file_extension": ".py",
   "mimetype": "text/x-python",
   "name": "python",
   "nbconvert_exporter": "python",
   "pygments_lexer": "ipython3",
   "version": "3.11.0"
  }
 },
 "nbformat": 4,
 "nbformat_minor": 5
}
